{
  "nbformat": 4,
  "nbformat_minor": 0,
  "metadata": {
    "colab": {
      "provenance": [],
      "authorship_tag": "ABX9TyNyPCqx0HfQ8OBrpdETvpqz",
      "include_colab_link": true
    },
    "kernelspec": {
      "name": "python3",
      "display_name": "Python 3"
    },
    "language_info": {
      "name": "python"
    }
  },
  "cells": [
    {
      "cell_type": "markdown",
      "metadata": {
        "id": "view-in-github",
        "colab_type": "text"
      },
      "source": [
        "<a href=\"https://colab.research.google.com/github/RanjanTarun27/AI-RAG-AGENT/blob/main/Untitled44.ipynb\" target=\"_parent\"><img src=\"https://colab.research.google.com/assets/colab-badge.svg\" alt=\"Open In Colab\"/></a>"
      ]
    },
    {
      "cell_type": "code",
      "execution_count": null,
      "metadata": {
        "id": "GvUgxxrzNiyp"
      },
      "outputs": [],
      "source": [
        "from agno.agent import Agent\n",
        "from agno.models.openai import OpenAIChat\n",
        "from agno.knowledge.pdf_url import PDFUrlKnowledgeBase\n",
        "from agno.vectordb.lancedb import LanceDb, SearchType\n",
        "from agno.playground import Playground, serve_playground_app\n",
        "from agno.tools.duckduckgo import DuckDuckGoTools\n",
        "\n",
        "db_uri = \"tmp/lancedb\"\n",
        "# Create a knowledge base from a PDF\n",
        "knowledge_base = PDFUrlKnowledgeBase(\n",
        "    urls=[\"https://phi-public.s3.amazonaws.com/recipes/ThaiRecipes.pdf\"],\n",
        "    # Use LanceDB as the vector database\n",
        "    vector_db=LanceDb(table_name=\"recipes\", uri=db_uri, search_type=SearchType.vector),\n",
        ")\n",
        "# Load the knowledge base: Comment out after first run\n",
        "knowledge_base.load(upsert=True)\n",
        "\n",
        "rag_agent = Agent(\n",
        "    model=OpenAIChat(id=\"gpt-4o\"),\n",
        "    agent_id=\"rag-agent\",\n",
        "    knowledge=knowledge_base, # Add the knowledge base to the agent\n",
        "    tools=[DuckDuckGoTools()],\n",
        "    show_tool_calls=True,\n",
        "    markdown=True,\n",
        ")\n",
        "\n",
        "app = Playground(agents=[rag_agent]).get_app()\n",
        "\n",
        "if __name__ == \"__main__\":\n",
        "    serve_playground_app(\"rag_agent:app\", reload=True)"
      ]
    }
  ]
}